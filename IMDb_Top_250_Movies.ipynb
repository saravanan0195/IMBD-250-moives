{
  "nbformat": 4,
  "nbformat_minor": 0,
  "metadata": {
    "colab": {
      "provenance": [],
      "include_colab_link": true
    },
    "kernelspec": {
      "name": "python3",
      "display_name": "Python 3"
    },
    "language_info": {
      "name": "python"
    }
  },
  "cells": [
    {
      "cell_type": "markdown",
      "metadata": {
        "id": "view-in-github",
        "colab_type": "text"
      },
      "source": [
        "<a href=\"https://colab.research.google.com/github/saravanan0195/IMBD-250-moives/blob/main/IMDb_Top_250_Movies.ipynb\" target=\"_parent\"><img src=\"https://colab.research.google.com/assets/colab-badge.svg\" alt=\"Open In Colab\"/></a>"
      ]
    },
    {
      "cell_type": "markdown",
      "source": [
        "# **IMDb Top 250 Movies**\n",
        "\n",
        "![download.png](data:image/png;base64,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)\n",
        "\n",
        "**Context :**\n",
        "\n",
        "IMDb (Internet Movie Database) is one of the largest online databases for movies and television shows. It provides comprehensive information about movies such as ratings and reviews from its vast user base. The IMDb ratings are widely used as a benchmark for the popularity and success of movies.\n",
        "\n",
        "This dataset contains top 250 rated movies on IMDb of the year 2021, providing a snapshot of the most popular and highly rated movies of recent times.\n",
        "Analysis of this dataset provides insights into the movie industry, such as trends in movie ratings and popular genres.\n",
        "\n",
        "The data was scraped from the IMDb website for educational purposes and is available Kaggle.\n",
        "\n",
        "\n",
        "**Column Description :**\n",
        "\n",
        "There 13 number of coulumns that are used to extract the insights regarding each of them.\n",
        "\n",
        "*rank* - Rank of the movie.\n",
        "\n",
        "*name* - Name of the movie.\n",
        "\n",
        "*year* - Release year.\n",
        "\n",
        "*rating* - Rating of the movie.\n",
        "\n",
        "*genre* - Genre of the movie.\n",
        "\n",
        "*certificate* - Certificate of the movie.\n",
        "\n",
        "*run_time* - Total movie run time.\n",
        "\n",
        "*tagline* - Tagline of the movie.\n",
        "\n",
        "*budget* - Budget of the movie.\n",
        "\n",
        "*box_office* - Total box office collection across the world.\n",
        "\n",
        "*casts* - All casts of the movie.\n",
        "\n",
        "*directors* - Director of the movie.\n",
        "\n",
        "*writers* - Writer of the movie.\n",
        "\n",
        "\n",
        "This data set helps in exploring and understanding the factors that contribute to a movie's popularity and success.\n",
        "\n",
        "Hope this dataset will be useful for movie enthusiasts, data scientists, and researchers who are interested in exploring the correlations between different movie attributes and their popularity."
      ],
      "metadata": {
        "id": "Dld0KoUpLpwp"
      }
    },
    {
      "cell_type": "code",
      "source": [],
      "metadata": {
        "id": "vg5tP-w3GETa"
      },
      "execution_count": null,
      "outputs": []
    },
    {
      "cell_type": "markdown",
      "source": [
        "### **Importing Libraries :**"
      ],
      "metadata": {
        "id": "AzJyP9Xx6Bm6"
      }
    },
    {
      "cell_type": "code",
      "source": [
        "import pandas as pd\n",
        "import numpy as np\n",
        "import matplotlib.pyplot as plt\n",
        "import seaborn as sns\n",
        "%matplotlib inline\n",
        "import gc"
      ],
      "metadata": {
        "id": "HsshFBoANhf0"
      },
      "execution_count": null,
      "outputs": []
    },
    {
      "cell_type": "code",
      "source": [
        "data1=pd.read_csv('/content/IMDB Top 250 Movies.csv')"
      ],
      "metadata": {
        "id": "QqytCfZaOdO0"
      },
      "execution_count": null,
      "outputs": []
    },
    {
      "cell_type": "markdown",
      "source": [
        "### **Basic Investigation :**"
      ],
      "metadata": {
        "id": "GVT0GIcf6Jb4"
      }
    },
    {
      "cell_type": "code",
      "source": [
        "data1.shape"
      ],
      "metadata": {
        "colab": {
          "base_uri": "https://localhost:8080/"
        },
        "id": "_kz8ju7DOnX9",
        "outputId": "c031ab6e-9310-4076-c03c-ff8034c782d5"
      },
      "execution_count": null,
      "outputs": [
        {
          "output_type": "execute_result",
          "data": {
            "text/plain": [
              "(250, 13)"
            ]
          },
          "metadata": {},
          "execution_count": 68
        }
      ]
    },
    {
      "cell_type": "code",
      "source": [
        "data1.columns"
      ],
      "metadata": {
        "colab": {
          "base_uri": "https://localhost:8080/"
        },
        "id": "wvcm7tx_Oqo1",
        "outputId": "3229dcb6-07b9-4271-8c65-da4b18c0af3f"
      },
      "execution_count": null,
      "outputs": [
        {
          "output_type": "execute_result",
          "data": {
            "text/plain": [
              "Index(['rank', 'name', 'year', 'rating', 'genre', 'certificate', 'run_time',\n",
              "       'tagline', 'budget', 'box_office', 'casts', 'directors', 'writers'],\n",
              "      dtype='object')"
            ]
          },
          "metadata": {},
          "execution_count": 69
        }
      ]
    },
    {
      "cell_type": "code",
      "source": [
        "data1.info()"
      ],
      "metadata": {
        "colab": {
          "base_uri": "https://localhost:8080/"
        },
        "id": "ASrw1pdZOvfk",
        "outputId": "d1f9ecb8-23b4-44a0-a4a6-c72ed03c3a89"
      },
      "execution_count": null,
      "outputs": [
        {
          "output_type": "stream",
          "name": "stdout",
          "text": [
            "<class 'pandas.core.frame.DataFrame'>\n",
            "RangeIndex: 250 entries, 0 to 249\n",
            "Data columns (total 13 columns):\n",
            " #   Column       Non-Null Count  Dtype  \n",
            "---  ------       --------------  -----  \n",
            " 0   rank         250 non-null    int64  \n",
            " 1   name         250 non-null    object \n",
            " 2   year         250 non-null    int64  \n",
            " 3   rating       250 non-null    float64\n",
            " 4   genre        250 non-null    object \n",
            " 5   certificate  250 non-null    object \n",
            " 6   run_time     250 non-null    object \n",
            " 7   tagline      250 non-null    object \n",
            " 8   budget       250 non-null    object \n",
            " 9   box_office   250 non-null    object \n",
            " 10  casts        250 non-null    object \n",
            " 11  directors    250 non-null    object \n",
            " 12  writers      250 non-null    object \n",
            "dtypes: float64(1), int64(2), object(10)\n",
            "memory usage: 25.5+ KB\n"
          ]
        }
      ]
    },
    {
      "cell_type": "code",
      "source": [
        "data1.describe()"
      ],
      "metadata": {
        "colab": {
          "base_uri": "https://localhost:8080/",
          "height": 300
        },
        "id": "I5k3gqHMRSB0",
        "outputId": "e044e764-8484-4e5b-92fa-3bc72725a041"
      },
      "execution_count": null,
      "outputs": [
        {
          "output_type": "execute_result",
          "data": {
            "text/plain": [
              "             rank         year      rating\n",
              "count  250.000000   250.000000  250.000000\n",
              "mean   125.500000  1986.360000    8.307200\n",
              "std     72.312977    25.125356    0.229081\n",
              "min      1.000000  1921.000000    8.000000\n",
              "25%     63.250000  1966.250000    8.100000\n",
              "50%    125.500000  1994.000000    8.200000\n",
              "75%    187.750000  2006.000000    8.400000\n",
              "max    250.000000  2022.000000    9.300000"
            ],
            "text/html": [
              "\n",
              "  <div id=\"df-5d1e125c-76c1-4310-b60e-2c5a19f73b30\">\n",
              "    <div class=\"colab-df-container\">\n",
              "      <div>\n",
              "<style scoped>\n",
              "    .dataframe tbody tr th:only-of-type {\n",
              "        vertical-align: middle;\n",
              "    }\n",
              "\n",
              "    .dataframe tbody tr th {\n",
              "        vertical-align: top;\n",
              "    }\n",
              "\n",
              "    .dataframe thead th {\n",
              "        text-align: right;\n",
              "    }\n",
              "</style>\n",
              "<table border=\"1\" class=\"dataframe\">\n",
              "  <thead>\n",
              "    <tr style=\"text-align: right;\">\n",
              "      <th></th>\n",
              "      <th>rank</th>\n",
              "      <th>year</th>\n",
              "      <th>rating</th>\n",
              "    </tr>\n",
              "  </thead>\n",
              "  <tbody>\n",
              "    <tr>\n",
              "      <th>count</th>\n",
              "      <td>250.000000</td>\n",
              "      <td>250.000000</td>\n",
              "      <td>250.000000</td>\n",
              "    </tr>\n",
              "    <tr>\n",
              "      <th>mean</th>\n",
              "      <td>125.500000</td>\n",
              "      <td>1986.360000</td>\n",
              "      <td>8.307200</td>\n",
              "    </tr>\n",
              "    <tr>\n",
              "      <th>std</th>\n",
              "      <td>72.312977</td>\n",
              "      <td>25.125356</td>\n",
              "      <td>0.229081</td>\n",
              "    </tr>\n",
              "    <tr>\n",
              "      <th>min</th>\n",
              "      <td>1.000000</td>\n",
              "      <td>1921.000000</td>\n",
              "      <td>8.000000</td>\n",
              "    </tr>\n",
              "    <tr>\n",
              "      <th>25%</th>\n",
              "      <td>63.250000</td>\n",
              "      <td>1966.250000</td>\n",
              "      <td>8.100000</td>\n",
              "    </tr>\n",
              "    <tr>\n",
              "      <th>50%</th>\n",
              "      <td>125.500000</td>\n",
              "      <td>1994.000000</td>\n",
              "      <td>8.200000</td>\n",
              "    </tr>\n",
              "    <tr>\n",
              "      <th>75%</th>\n",
              "      <td>187.750000</td>\n",
              "      <td>2006.000000</td>\n",
              "      <td>8.400000</td>\n",
              "    </tr>\n",
              "    <tr>\n",
              "      <th>max</th>\n",
              "      <td>250.000000</td>\n",
              "      <td>2022.000000</td>\n",
              "      <td>9.300000</td>\n",
              "    </tr>\n",
              "  </tbody>\n",
              "</table>\n",
              "</div>\n",
              "      <button class=\"colab-df-convert\" onclick=\"convertToInteractive('df-5d1e125c-76c1-4310-b60e-2c5a19f73b30')\"\n",
              "              title=\"Convert this dataframe to an interactive table.\"\n",
              "              style=\"display:none;\">\n",
              "        \n",
              "  <svg xmlns=\"http://www.w3.org/2000/svg\" height=\"24px\"viewBox=\"0 0 24 24\"\n",
              "       width=\"24px\">\n",
              "    <path d=\"M0 0h24v24H0V0z\" fill=\"none\"/>\n",
              "    <path d=\"M18.56 5.44l.94 2.06.94-2.06 2.06-.94-2.06-.94-.94-2.06-.94 2.06-2.06.94zm-11 1L8.5 8.5l.94-2.06 2.06-.94-2.06-.94L8.5 2.5l-.94 2.06-2.06.94zm10 10l.94 2.06.94-2.06 2.06-.94-2.06-.94-.94-2.06-.94 2.06-2.06.94z\"/><path d=\"M17.41 7.96l-1.37-1.37c-.4-.4-.92-.59-1.43-.59-.52 0-1.04.2-1.43.59L10.3 9.45l-7.72 7.72c-.78.78-.78 2.05 0 2.83L4 21.41c.39.39.9.59 1.41.59.51 0 1.02-.2 1.41-.59l7.78-7.78 2.81-2.81c.8-.78.8-2.07 0-2.86zM5.41 20L4 18.59l7.72-7.72 1.47 1.35L5.41 20z\"/>\n",
              "  </svg>\n",
              "      </button>\n",
              "      \n",
              "  <style>\n",
              "    .colab-df-container {\n",
              "      display:flex;\n",
              "      flex-wrap:wrap;\n",
              "      gap: 12px;\n",
              "    }\n",
              "\n",
              "    .colab-df-convert {\n",
              "      background-color: #E8F0FE;\n",
              "      border: none;\n",
              "      border-radius: 50%;\n",
              "      cursor: pointer;\n",
              "      display: none;\n",
              "      fill: #1967D2;\n",
              "      height: 32px;\n",
              "      padding: 0 0 0 0;\n",
              "      width: 32px;\n",
              "    }\n",
              "\n",
              "    .colab-df-convert:hover {\n",
              "      background-color: #E2EBFA;\n",
              "      box-shadow: 0px 1px 2px rgba(60, 64, 67, 0.3), 0px 1px 3px 1px rgba(60, 64, 67, 0.15);\n",
              "      fill: #174EA6;\n",
              "    }\n",
              "\n",
              "    [theme=dark] .colab-df-convert {\n",
              "      background-color: #3B4455;\n",
              "      fill: #D2E3FC;\n",
              "    }\n",
              "\n",
              "    [theme=dark] .colab-df-convert:hover {\n",
              "      background-color: #434B5C;\n",
              "      box-shadow: 0px 1px 3px 1px rgba(0, 0, 0, 0.15);\n",
              "      filter: drop-shadow(0px 1px 2px rgba(0, 0, 0, 0.3));\n",
              "      fill: #FFFFFF;\n",
              "    }\n",
              "  </style>\n",
              "\n",
              "      <script>\n",
              "        const buttonEl =\n",
              "          document.querySelector('#df-5d1e125c-76c1-4310-b60e-2c5a19f73b30 button.colab-df-convert');\n",
              "        buttonEl.style.display =\n",
              "          google.colab.kernel.accessAllowed ? 'block' : 'none';\n",
              "\n",
              "        async function convertToInteractive(key) {\n",
              "          const element = document.querySelector('#df-5d1e125c-76c1-4310-b60e-2c5a19f73b30');\n",
              "          const dataTable =\n",
              "            await google.colab.kernel.invokeFunction('convertToInteractive',\n",
              "                                                     [key], {});\n",
              "          if (!dataTable) return;\n",
              "\n",
              "          const docLinkHtml = 'Like what you see? Visit the ' +\n",
              "            '<a target=\"_blank\" href=https://colab.research.google.com/notebooks/data_table.ipynb>data table notebook</a>'\n",
              "            + ' to learn more about interactive tables.';\n",
              "          element.innerHTML = '';\n",
              "          dataTable['output_type'] = 'display_data';\n",
              "          await google.colab.output.renderOutput(dataTable, element);\n",
              "          const docLink = document.createElement('div');\n",
              "          docLink.innerHTML = docLinkHtml;\n",
              "          element.appendChild(docLink);\n",
              "        }\n",
              "      </script>\n",
              "    </div>\n",
              "  </div>\n",
              "  "
            ]
          },
          "metadata": {},
          "execution_count": 71
        }
      ]
    },
    {
      "cell_type": "code",
      "source": [
        "data1.nunique()"
      ],
      "metadata": {
        "colab": {
          "base_uri": "https://localhost:8080/"
        },
        "id": "skxJR0PkY23K",
        "outputId": "da90dfc0-048c-47a8-fd68-d6e233e8cdde"
      },
      "execution_count": null,
      "outputs": [
        {
          "output_type": "execute_result",
          "data": {
            "text/plain": [
              "rank           250\n",
              "name           250\n",
              "year            86\n",
              "rating          13\n",
              "genre          104\n",
              "certificate     15\n",
              "run_time       102\n",
              "tagline        250\n",
              "budget         128\n",
              "box_office     221\n",
              "casts          250\n",
              "directors      160\n",
              "writers        233\n",
              "dtype: int64"
            ]
          },
          "metadata": {},
          "execution_count": 72
        }
      ]
    },
    {
      "cell_type": "code",
      "source": [
        "data1.isnull().any()"
      ],
      "metadata": {
        "colab": {
          "base_uri": "https://localhost:8080/"
        },
        "id": "hNtzA-eKY9z2",
        "outputId": "6ea3ca3c-374a-42ca-91ab-27ac945db644"
      },
      "execution_count": null,
      "outputs": [
        {
          "output_type": "execute_result",
          "data": {
            "text/plain": [
              "rank           False\n",
              "name           False\n",
              "year           False\n",
              "rating         False\n",
              "genre          False\n",
              "certificate    False\n",
              "run_time       False\n",
              "tagline        False\n",
              "budget         False\n",
              "box_office     False\n",
              "casts          False\n",
              "directors      False\n",
              "writers        False\n",
              "dtype: bool"
            ]
          },
          "metadata": {},
          "execution_count": 73
        }
      ]
    },
    {
      "cell_type": "code",
      "source": [
        "data1.isnull().sum()"
      ],
      "metadata": {
        "colab": {
          "base_uri": "https://localhost:8080/"
        },
        "id": "qilXw50dZCwq",
        "outputId": "caad80be-5e81-48d5-ff95-04a447f5eb64"
      },
      "execution_count": null,
      "outputs": [
        {
          "output_type": "execute_result",
          "data": {
            "text/plain": [
              "rank           0\n",
              "name           0\n",
              "year           0\n",
              "rating         0\n",
              "genre          0\n",
              "certificate    0\n",
              "run_time       0\n",
              "tagline        0\n",
              "budget         0\n",
              "box_office     0\n",
              "casts          0\n",
              "directors      0\n",
              "writers        0\n",
              "dtype: int64"
            ]
          },
          "metadata": {},
          "execution_count": 74
        }
      ]
    },
    {
      "cell_type": "code",
      "source": [
        "data1.head()"
      ],
      "metadata": {
        "colab": {
          "base_uri": "https://localhost:8080/",
          "height": 652
        },
        "id": "id-CMHg8ZHq9",
        "outputId": "a4397ce8-61e6-429f-b5a6-9e320ca136a9"
      },
      "execution_count": null,
      "outputs": [
        {
          "output_type": "execute_result",
          "data": {
            "text/plain": [
              "   rank                      name  year  rating               genre  \\\n",
              "0     1  The Shawshank Redemption  1994     9.3               Drama   \n",
              "1     2             The Godfather  1972     9.2         Crime,Drama   \n",
              "2     3           The Dark Knight  2008     9.0  Action,Crime,Drama   \n",
              "3     4     The Godfather Part II  1974     9.0         Crime,Drama   \n",
              "4     5              12 Angry Men  1957     9.0         Crime,Drama   \n",
              "\n",
              "  certificate run_time                                            tagline  \\\n",
              "0           R   2h 22m  Fear can hold you prisoner. Hope can set you f...   \n",
              "1           R   2h 55m                         An offer you can't refuse.   \n",
              "2       PG-13   2h 32m                                    Why So Serious?   \n",
              "3           R   3h 22m       All the power on earth can't change destiny.   \n",
              "4    Approved   1h 36m  Life Is In Their Hands -- Death Is On Their Mi...   \n",
              "\n",
              "      budget  box_office                                              casts  \\\n",
              "0   25000000    28884504  Tim Robbins,Morgan Freeman,Bob Gunton,William ...   \n",
              "1    6000000   250341816  Marlon Brando,Al Pacino,James Caan,Diane Keato...   \n",
              "2  185000000  1006234167  Christian Bale,Heath Ledger,Aaron Eckhart,Mich...   \n",
              "3   13000000    47961919  Al Pacino,Robert De Niro,Robert Duvall,Diane K...   \n",
              "4     350000         955  Henry Fonda,Lee J. Cobb,Martin Balsam,John Fie...   \n",
              "\n",
              "              directors                                          writers  \n",
              "0        Frank Darabont                      Stephen King,Frank Darabont  \n",
              "1  Francis Ford Coppola                  Mario Puzo,Francis Ford Coppola  \n",
              "2     Christopher Nolan  Jonathan Nolan,Christopher Nolan,David S. Goyer  \n",
              "3  Francis Ford Coppola                  Francis Ford Coppola,Mario Puzo  \n",
              "4          Sidney Lumet                                    Reginald Rose  "
            ],
            "text/html": [
              "\n",
              "  <div id=\"df-f68e3426-0a70-4f04-9c71-bdeef172a0dc\">\n",
              "    <div class=\"colab-df-container\">\n",
              "      <div>\n",
              "<style scoped>\n",
              "    .dataframe tbody tr th:only-of-type {\n",
              "        vertical-align: middle;\n",
              "    }\n",
              "\n",
              "    .dataframe tbody tr th {\n",
              "        vertical-align: top;\n",
              "    }\n",
              "\n",
              "    .dataframe thead th {\n",
              "        text-align: right;\n",
              "    }\n",
              "</style>\n",
              "<table border=\"1\" class=\"dataframe\">\n",
              "  <thead>\n",
              "    <tr style=\"text-align: right;\">\n",
              "      <th></th>\n",
              "      <th>rank</th>\n",
              "      <th>name</th>\n",
              "      <th>year</th>\n",
              "      <th>rating</th>\n",
              "      <th>genre</th>\n",
              "      <th>certificate</th>\n",
              "      <th>run_time</th>\n",
              "      <th>tagline</th>\n",
              "      <th>budget</th>\n",
              "      <th>box_office</th>\n",
              "      <th>casts</th>\n",
              "      <th>directors</th>\n",
              "      <th>writers</th>\n",
              "    </tr>\n",
              "  </thead>\n",
              "  <tbody>\n",
              "    <tr>\n",
              "      <th>0</th>\n",
              "      <td>1</td>\n",
              "      <td>The Shawshank Redemption</td>\n",
              "      <td>1994</td>\n",
              "      <td>9.3</td>\n",
              "      <td>Drama</td>\n",
              "      <td>R</td>\n",
              "      <td>2h 22m</td>\n",
              "      <td>Fear can hold you prisoner. Hope can set you f...</td>\n",
              "      <td>25000000</td>\n",
              "      <td>28884504</td>\n",
              "      <td>Tim Robbins,Morgan Freeman,Bob Gunton,William ...</td>\n",
              "      <td>Frank Darabont</td>\n",
              "      <td>Stephen King,Frank Darabont</td>\n",
              "    </tr>\n",
              "    <tr>\n",
              "      <th>1</th>\n",
              "      <td>2</td>\n",
              "      <td>The Godfather</td>\n",
              "      <td>1972</td>\n",
              "      <td>9.2</td>\n",
              "      <td>Crime,Drama</td>\n",
              "      <td>R</td>\n",
              "      <td>2h 55m</td>\n",
              "      <td>An offer you can't refuse.</td>\n",
              "      <td>6000000</td>\n",
              "      <td>250341816</td>\n",
              "      <td>Marlon Brando,Al Pacino,James Caan,Diane Keato...</td>\n",
              "      <td>Francis Ford Coppola</td>\n",
              "      <td>Mario Puzo,Francis Ford Coppola</td>\n",
              "    </tr>\n",
              "    <tr>\n",
              "      <th>2</th>\n",
              "      <td>3</td>\n",
              "      <td>The Dark Knight</td>\n",
              "      <td>2008</td>\n",
              "      <td>9.0</td>\n",
              "      <td>Action,Crime,Drama</td>\n",
              "      <td>PG-13</td>\n",
              "      <td>2h 32m</td>\n",
              "      <td>Why So Serious?</td>\n",
              "      <td>185000000</td>\n",
              "      <td>1006234167</td>\n",
              "      <td>Christian Bale,Heath Ledger,Aaron Eckhart,Mich...</td>\n",
              "      <td>Christopher Nolan</td>\n",
              "      <td>Jonathan Nolan,Christopher Nolan,David S. Goyer</td>\n",
              "    </tr>\n",
              "    <tr>\n",
              "      <th>3</th>\n",
              "      <td>4</td>\n",
              "      <td>The Godfather Part II</td>\n",
              "      <td>1974</td>\n",
              "      <td>9.0</td>\n",
              "      <td>Crime,Drama</td>\n",
              "      <td>R</td>\n",
              "      <td>3h 22m</td>\n",
              "      <td>All the power on earth can't change destiny.</td>\n",
              "      <td>13000000</td>\n",
              "      <td>47961919</td>\n",
              "      <td>Al Pacino,Robert De Niro,Robert Duvall,Diane K...</td>\n",
              "      <td>Francis Ford Coppola</td>\n",
              "      <td>Francis Ford Coppola,Mario Puzo</td>\n",
              "    </tr>\n",
              "    <tr>\n",
              "      <th>4</th>\n",
              "      <td>5</td>\n",
              "      <td>12 Angry Men</td>\n",
              "      <td>1957</td>\n",
              "      <td>9.0</td>\n",
              "      <td>Crime,Drama</td>\n",
              "      <td>Approved</td>\n",
              "      <td>1h 36m</td>\n",
              "      <td>Life Is In Their Hands -- Death Is On Their Mi...</td>\n",
              "      <td>350000</td>\n",
              "      <td>955</td>\n",
              "      <td>Henry Fonda,Lee J. Cobb,Martin Balsam,John Fie...</td>\n",
              "      <td>Sidney Lumet</td>\n",
              "      <td>Reginald Rose</td>\n",
              "    </tr>\n",
              "  </tbody>\n",
              "</table>\n",
              "</div>\n",
              "      <button class=\"colab-df-convert\" onclick=\"convertToInteractive('df-f68e3426-0a70-4f04-9c71-bdeef172a0dc')\"\n",
              "              title=\"Convert this dataframe to an interactive table.\"\n",
              "              style=\"display:none;\">\n",
              "        \n",
              "  <svg xmlns=\"http://www.w3.org/2000/svg\" height=\"24px\"viewBox=\"0 0 24 24\"\n",
              "       width=\"24px\">\n",
              "    <path d=\"M0 0h24v24H0V0z\" fill=\"none\"/>\n",
              "    <path d=\"M18.56 5.44l.94 2.06.94-2.06 2.06-.94-2.06-.94-.94-2.06-.94 2.06-2.06.94zm-11 1L8.5 8.5l.94-2.06 2.06-.94-2.06-.94L8.5 2.5l-.94 2.06-2.06.94zm10 10l.94 2.06.94-2.06 2.06-.94-2.06-.94-.94-2.06-.94 2.06-2.06.94z\"/><path d=\"M17.41 7.96l-1.37-1.37c-.4-.4-.92-.59-1.43-.59-.52 0-1.04.2-1.43.59L10.3 9.45l-7.72 7.72c-.78.78-.78 2.05 0 2.83L4 21.41c.39.39.9.59 1.41.59.51 0 1.02-.2 1.41-.59l7.78-7.78 2.81-2.81c.8-.78.8-2.07 0-2.86zM5.41 20L4 18.59l7.72-7.72 1.47 1.35L5.41 20z\"/>\n",
              "  </svg>\n",
              "      </button>\n",
              "      \n",
              "  <style>\n",
              "    .colab-df-container {\n",
              "      display:flex;\n",
              "      flex-wrap:wrap;\n",
              "      gap: 12px;\n",
              "    }\n",
              "\n",
              "    .colab-df-convert {\n",
              "      background-color: #E8F0FE;\n",
              "      border: none;\n",
              "      border-radius: 50%;\n",
              "      cursor: pointer;\n",
              "      display: none;\n",
              "      fill: #1967D2;\n",
              "      height: 32px;\n",
              "      padding: 0 0 0 0;\n",
              "      width: 32px;\n",
              "    }\n",
              "\n",
              "    .colab-df-convert:hover {\n",
              "      background-color: #E2EBFA;\n",
              "      box-shadow: 0px 1px 2px rgba(60, 64, 67, 0.3), 0px 1px 3px 1px rgba(60, 64, 67, 0.15);\n",
              "      fill: #174EA6;\n",
              "    }\n",
              "\n",
              "    [theme=dark] .colab-df-convert {\n",
              "      background-color: #3B4455;\n",
              "      fill: #D2E3FC;\n",
              "    }\n",
              "\n",
              "    [theme=dark] .colab-df-convert:hover {\n",
              "      background-color: #434B5C;\n",
              "      box-shadow: 0px 1px 3px 1px rgba(0, 0, 0, 0.15);\n",
              "      filter: drop-shadow(0px 1px 2px rgba(0, 0, 0, 0.3));\n",
              "      fill: #FFFFFF;\n",
              "    }\n",
              "  </style>\n",
              "\n",
              "      <script>\n",
              "        const buttonEl =\n",
              "          document.querySelector('#df-f68e3426-0a70-4f04-9c71-bdeef172a0dc button.colab-df-convert');\n",
              "        buttonEl.style.display =\n",
              "          google.colab.kernel.accessAllowed ? 'block' : 'none';\n",
              "\n",
              "        async function convertToInteractive(key) {\n",
              "          const element = document.querySelector('#df-f68e3426-0a70-4f04-9c71-bdeef172a0dc');\n",
              "          const dataTable =\n",
              "            await google.colab.kernel.invokeFunction('convertToInteractive',\n",
              "                                                     [key], {});\n",
              "          if (!dataTable) return;\n",
              "\n",
              "          const docLinkHtml = 'Like what you see? Visit the ' +\n",
              "            '<a target=\"_blank\" href=https://colab.research.google.com/notebooks/data_table.ipynb>data table notebook</a>'\n",
              "            + ' to learn more about interactive tables.';\n",
              "          element.innerHTML = '';\n",
              "          dataTable['output_type'] = 'display_data';\n",
              "          await google.colab.output.renderOutput(dataTable, element);\n",
              "          const docLink = document.createElement('div');\n",
              "          docLink.innerHTML = docLinkHtml;\n",
              "          element.appendChild(docLink);\n",
              "        }\n",
              "      </script>\n",
              "    </div>\n",
              "  </div>\n",
              "  "
            ]
          },
          "metadata": {},
          "execution_count": 75
        }
      ]
    },
    {
      "cell_type": "markdown",
      "source": [
        "## **Feature Engineering And Exploratory Data Analysis:**"
      ],
      "metadata": {
        "id": "Umk5PFYgxsPL"
      }
    },
    {
      "cell_type": "markdown",
      "source": [
        "### **Convert budget and box_office columns into monetary values.**"
      ],
      "metadata": {
        "id": "YQg-T7-QxZ0-"
      }
    },
    {
      "cell_type": "code",
      "source": [
        "data1['budget'] = data1['budget'].str.replace('$','')\n",
        "data1['budget']=pd.to_numeric(data1['budget'],errors='coerce', downcast='float') / 1E9 # Convert to billions\n",
        "data1['budget'] = data1['budget'].fillna(data1['budget'].median())\n",
        "\n",
        "data1['box_office'] = data1['box_office'].str.replace('$','')\n",
        "data1['box_office']=pd.to_numeric(data1['box_office'],errors='coerce', downcast='float') / 1E9 # Convert to billions\n",
        "data1['box_office'] = data1['box_office'].fillna(data1['box_office'].median())\n",
        "\n",
        "data1['return_rate'] = data1['box_office'] / data1set_style(df.describe(), \"Numerical Data Description\")['budget'] * 100"
      ],
      "metadata": {
        "colab": {
          "base_uri": "https://localhost:8080/"
        },
        "id": "50gXtv1cwhOI",
        "outputId": "42289bc4-52a8-4f0b-b220-037e3e65aafe"
      },
      "execution_count": null,
      "outputs": [
        {
          "output_type": "stream",
          "name": "stderr",
          "text": [
            "<ipython-input-80-2878684184e2>:1: FutureWarning: The default value of regex will change from True to False in a future version. In addition, single character regular expressions will *not* be treated as literal strings when regex=True.\n",
            "  data1['budget'] = data1['budget'].str.replace('$','')\n",
            "<ipython-input-80-2878684184e2>:5: FutureWarning: The default value of regex will change from True to False in a future version. In addition, single character regular expressions will *not* be treated as literal strings when regex=True.\n",
            "  data1['box_office'] = data1['box_office'].str.replace('$','')\n"
          ]
        }
      ]
    },
    {
      "cell_type": "code",
      "source": [
        "data1[data1['budget'] > 2]"
      ],
      "metadata": {
        "colab": {
          "base_uri": "https://localhost:8080/",
          "height": 214
        },
        "id": "gP6Yc3_RyEhU",
        "outputId": "2aeab9fd-e01a-4339-805e-554142fa7ebd"
      },
      "execution_count": null,
      "outputs": [
        {
          "output_type": "execute_result",
          "data": {
            "text/plain": [
              "    rank               name  year  rating                       genre  \\\n",
              "78    79  Princess Mononoke  1997     8.4  Animation,Action,Adventure   \n",
              "\n",
              "   certificate run_time   tagline  budget  box_office  \\\n",
              "78       PG-13   2h 14m  Live on.     2.4    0.170006   \n",
              "\n",
              "                                                casts       directors  \\\n",
              "78  Yôji Matsuda,Yuriko Ishida,Yûko Tanaka,Billy C...  Hayao Miyazaki   \n",
              "\n",
              "                       writers  return_rate  \n",
              "78  Hayao Miyazaki,Neil Gaiman     7.083578  "
            ],
            "text/html": [
              "\n",
              "  <div id=\"df-40861173-87d2-4683-a809-fde766de2d81\">\n",
              "    <div class=\"colab-df-container\">\n",
              "      <div>\n",
              "<style scoped>\n",
              "    .dataframe tbody tr th:only-of-type {\n",
              "        vertical-align: middle;\n",
              "    }\n",
              "\n",
              "    .dataframe tbody tr th {\n",
              "        vertical-align: top;\n",
              "    }\n",
              "\n",
              "    .dataframe thead th {\n",
              "        text-align: right;\n",
              "    }\n",
              "</style>\n",
              "<table border=\"1\" class=\"dataframe\">\n",
              "  <thead>\n",
              "    <tr style=\"text-align: right;\">\n",
              "      <th></th>\n",
              "      <th>rank</th>\n",
              "      <th>name</th>\n",
              "      <th>year</th>\n",
              "      <th>rating</th>\n",
              "      <th>genre</th>\n",
              "      <th>certificate</th>\n",
              "      <th>run_time</th>\n",
              "      <th>tagline</th>\n",
              "      <th>budget</th>\n",
              "      <th>box_office</th>\n",
              "      <th>casts</th>\n",
              "      <th>directors</th>\n",
              "      <th>writers</th>\n",
              "      <th>return_rate</th>\n",
              "    </tr>\n",
              "  </thead>\n",
              "  <tbody>\n",
              "    <tr>\n",
              "      <th>78</th>\n",
              "      <td>79</td>\n",
              "      <td>Princess Mononoke</td>\n",
              "      <td>1997</td>\n",
              "      <td>8.4</td>\n",
              "      <td>Animation,Action,Adventure</td>\n",
              "      <td>PG-13</td>\n",
              "      <td>2h 14m</td>\n",
              "      <td>Live on.</td>\n",
              "      <td>2.4</td>\n",
              "      <td>0.170006</td>\n",
              "      <td>Yôji Matsuda,Yuriko Ishida,Yûko Tanaka,Billy C...</td>\n",
              "      <td>Hayao Miyazaki</td>\n",
              "      <td>Hayao Miyazaki,Neil Gaiman</td>\n",
              "      <td>7.083578</td>\n",
              "    </tr>\n",
              "  </tbody>\n",
              "</table>\n",
              "</div>\n",
              "      <button class=\"colab-df-convert\" onclick=\"convertToInteractive('df-40861173-87d2-4683-a809-fde766de2d81')\"\n",
              "              title=\"Convert this dataframe to an interactive table.\"\n",
              "              style=\"display:none;\">\n",
              "        \n",
              "  <svg xmlns=\"http://www.w3.org/2000/svg\" height=\"24px\"viewBox=\"0 0 24 24\"\n",
              "       width=\"24px\">\n",
              "    <path d=\"M0 0h24v24H0V0z\" fill=\"none\"/>\n",
              "    <path d=\"M18.56 5.44l.94 2.06.94-2.06 2.06-.94-2.06-.94-.94-2.06-.94 2.06-2.06.94zm-11 1L8.5 8.5l.94-2.06 2.06-.94-2.06-.94L8.5 2.5l-.94 2.06-2.06.94zm10 10l.94 2.06.94-2.06 2.06-.94-2.06-.94-.94-2.06-.94 2.06-2.06.94z\"/><path d=\"M17.41 7.96l-1.37-1.37c-.4-.4-.92-.59-1.43-.59-.52 0-1.04.2-1.43.59L10.3 9.45l-7.72 7.72c-.78.78-.78 2.05 0 2.83L4 21.41c.39.39.9.59 1.41.59.51 0 1.02-.2 1.41-.59l7.78-7.78 2.81-2.81c.8-.78.8-2.07 0-2.86zM5.41 20L4 18.59l7.72-7.72 1.47 1.35L5.41 20z\"/>\n",
              "  </svg>\n",
              "      </button>\n",
              "      \n",
              "  <style>\n",
              "    .colab-df-container {\n",
              "      display:flex;\n",
              "      flex-wrap:wrap;\n",
              "      gap: 12px;\n",
              "    }\n",
              "\n",
              "    .colab-df-convert {\n",
              "      background-color: #E8F0FE;\n",
              "      border: none;\n",
              "      border-radius: 50%;\n",
              "      cursor: pointer;\n",
              "      display: none;\n",
              "      fill: #1967D2;\n",
              "      height: 32px;\n",
              "      padding: 0 0 0 0;\n",
              "      width: 32px;\n",
              "    }\n",
              "\n",
              "    .colab-df-convert:hover {\n",
              "      background-color: #E2EBFA;\n",
              "      box-shadow: 0px 1px 2px rgba(60, 64, 67, 0.3), 0px 1px 3px 1px rgba(60, 64, 67, 0.15);\n",
              "      fill: #174EA6;\n",
              "    }\n",
              "\n",
              "    [theme=dark] .colab-df-convert {\n",
              "      background-color: #3B4455;\n",
              "      fill: #D2E3FC;\n",
              "    }\n",
              "\n",
              "    [theme=dark] .colab-df-convert:hover {\n",
              "      background-color: #434B5C;\n",
              "      box-shadow: 0px 1px 3px 1px rgba(0, 0, 0, 0.15);\n",
              "      filter: drop-shadow(0px 1px 2px rgba(0, 0, 0, 0.3));\n",
              "      fill: #FFFFFF;\n",
              "    }\n",
              "  </style>\n",
              "\n",
              "      <script>\n",
              "        const buttonEl =\n",
              "          document.querySelector('#df-40861173-87d2-4683-a809-fde766de2d81 button.colab-df-convert');\n",
              "        buttonEl.style.display =\n",
              "          google.colab.kernel.accessAllowed ? 'block' : 'none';\n",
              "\n",
              "        async function convertToInteractive(key) {\n",
              "          const element = document.querySelector('#df-40861173-87d2-4683-a809-fde766de2d81');\n",
              "          const dataTable =\n",
              "            await google.colab.kernel.invokeFunction('convertToInteractive',\n",
              "                                                     [key], {});\n",
              "          if (!dataTable) return;\n",
              "\n",
              "          const docLinkHtml = 'Like what you see? Visit the ' +\n",
              "            '<a target=\"_blank\" href=https://colab.research.google.com/notebooks/data_table.ipynb>data table notebook</a>'\n",
              "            + ' to learn more about interactive tables.';\n",
              "          element.innerHTML = '';\n",
              "          dataTable['output_type'] = 'display_data';\n",
              "          await google.colab.output.renderOutput(dataTable, element);\n",
              "          const docLink = document.createElement('div');\n",
              "          docLink.innerHTML = docLinkHtml;\n",
              "          element.appendChild(docLink);\n",
              "        }\n",
              "      </script>\n",
              "    </div>\n",
              "  </div>\n",
              "  "
            ]
          },
          "metadata": {},
          "execution_count": 81
        }
      ]
    },
    {
      "cell_type": "markdown",
      "source": [
        "There's a budjet outlier for the film 'Princess Mononoke' where it can be fixed to median to resolve the issue ;"
      ],
      "metadata": {
        "id": "NYp96xPOyLyD"
      }
    },
    {
      "cell_type": "code",
      "source": [
        "data1.loc[data1.name == 'Princess Mononoke', 'budget'] = data1['budget'].median()\n",
        "data1.loc[data1.name == 'Princess Mononoke', 'box_office'] = data1['box_office'].median()"
      ],
      "metadata": {
        "id": "NIpH-vEiy2Cf"
      },
      "execution_count": null,
      "outputs": []
    },
    {
      "cell_type": "markdown",
      "source": [
        "### **Finding out any 'Not Available' columns :**"
      ],
      "metadata": {
        "id": "HYLVYfctFDeA"
      }
    },
    {
      "cell_type": "code",
      "source": [
        "missing = (data1 == \"Not Available\").any().sum()\n",
        "\n",
        "print(f\"{missing} columns in the dataset contain 'Not Available'.\")"
      ],
      "metadata": {
        "colab": {
          "base_uri": "https://localhost:8080/"
        },
        "id": "rtULJTFn0pa2",
        "outputId": "c44e2e67-ce78-40b8-82ba-a006ba7b1069"
      },
      "execution_count": null,
      "outputs": [
        {
          "output_type": "stream",
          "name": "stdout",
          "text": [
            "2 columns in the dataset contain 'Not Available'.\n"
          ]
        }
      ]
    },
    {
      "cell_type": "code",
      "source": [
        "not_available_columns = []\n",
        "for col in data1.columns:\n",
        "    if 'Not Available' in data1[col].value_counts().index:\n",
        "        not_avail_count = data1[col].value_counts()['Not Available']\n",
        "        print(f\"Column '{col}' has {not_avail_count} 'Not Available' values.\")\n",
        "        not_available_columns.append(col)\n",
        "\n",
        "print(f\"\\nThere are {len(not_available_columns)} columns with 'Not Available' values: {not_available_columns}\")"
      ],
      "metadata": {
        "colab": {
          "base_uri": "https://localhost:8080/"
        },
        "id": "i8Cr528-0-W7",
        "outputId": "a07bfd85-6293-46dd-afd9-0c5a57e2f4a2"
      },
      "execution_count": null,
      "outputs": [
        {
          "output_type": "stream",
          "name": "stdout",
          "text": [
            "Column 'certificate' has 1 'Not Available' values.\n",
            "Column 'run_time' has 1 'Not Available' values.\n",
            "\n",
            "There are 2 columns with 'Not Available' values: ['certificate', 'run_time']\n"
          ]
        }
      ]
    },
    {
      "cell_type": "code",
      "source": [
        "x=data1['run_time']\n",
        "y=data1['year']\n",
        "a=[30, 60, 90, 120, 150]\n",
        "plt.xticks(a)\n",
        "plt.scatter(x,y,color='darkslategrey')\n",
        "plt.xlabel('Run time')\n",
        "plt.ylabel('Years')\n",
        "plt.title('Movie duration as per years')"
      ],
      "metadata": {
        "colab": {
          "base_uri": "https://localhost:8080/",
          "height": 313
        },
        "id": "h34px_VEbxHc",
        "outputId": "97fa2cc7-6b46-4230-df53-60859a0bceb5"
      },
      "execution_count": null,
      "outputs": [
        {
          "output_type": "execute_result",
          "data": {
            "text/plain": [
              "Text(0.5, 1.0, 'Movie duration as per years')"
            ]
          },
          "metadata": {},
          "execution_count": 77
        },
        {
          "output_type": "display_data",
          "data": {
            "text/plain": [
              "<Figure size 432x288 with 1 Axes>"
            ],
            "image/png": "[encoded data removed]"
          },
          "metadata": {
            "needs_background": "light"
          }
        }
      ]
    },
    {
      "cell_type": "code",
      "source": [
        "df = pd.DataFrame(data1)\n",
        "\n",
        "print(df['rating'].unique())"
      ],
      "metadata": {
        "colab": {
          "base_uri": "https://localhost:8080/"
        },
        "id": "7zWyZxDLsSvI",
        "outputId": "920ed9a8-8b0d-4d71-bdae-6488c665a1ed"
      },
      "execution_count": null,
      "outputs": [
        {
          "output_type": "stream",
          "name": "stdout",
          "text": [
            "[9.3 9.2 9.  8.9 8.8 8.7 8.6 8.5 8.4 8.3 8.2 8.1 8. ]\n"
          ]
        }
      ]
    },
    {
      "cell_type": "code",
      "source": [
        "genre_counts = data1['genre'].value_counts()\n",
        "\n",
        "# The Top 10 most common genres\n",
        "display(genre_counts.head(10))"
      ],
      "metadata": {
        "colab": {
          "base_uri": "https://localhost:8080/",
          "height": 218
        },
        "id": "nYMrQrHt1-Bk",
        "outputId": "fea62c8e-3afa-4b19-c834-34b4c04bbd47"
      },
      "execution_count": null,
      "outputs": [
        {
          "output_type": "display_data",
          "data": {
            "text/plain": [
              "Drama                         19\n",
              "Crime,Drama                   14\n",
              "Animation,Adventure,Comedy    10\n",
              "Biography,Drama,History        9\n",
              "Crime,Drama,Mystery            9\n",
              "Drama,War                      8\n",
              "Drama,Romance                  6\n",
              "Crime,Drama,Thriller           5\n",
              "Action,Crime,Drama             5\n",
              "Action,Adventure,Drama         5\n",
              "Name: genre, dtype: int64"
            ]
          },
          "metadata": {}
        }
      ]
    },
    {
      "cell_type": "code",
      "source": [
        "real_gen = \"\"\n",
        "for i in data1['genre']:\n",
        "    real_gen = real_gen+\",\"+i\n",
        "all_gen = real_gen.split(',')[1:]\n",
        "unique_genres = list(set(all_gen))"
      ],
      "metadata": {
        "id": "2sqPzYGW3jH2"
      },
      "execution_count": null,
      "outputs": []
    },
    {
      "cell_type": "code",
      "source": [
        "data = []\n",
        "for i in unique_genres:\n",
        "    c = 0\n",
        "    for j in df['genre']:\n",
        "        if i in j:\n",
        "            c+=1\n",
        "    data.append([i, c])"
      ],
      "metadata": {
        "id": "cWJ744rv3qCd"
      },
      "execution_count": null,
      "outputs": []
    },
    {
      "cell_type": "code",
      "source": [
        "gen_data1 = pd.DataFrame(data, columns=['Genre', 'Freq'])\n",
        "gen_data1.sort_values(by = 'Freq', ascending = False, inplace = True)\n",
        "gen_data1 = gen_data1.head(5)"
      ],
      "metadata": {
        "id": "LPYh-A023tcn"
      },
      "execution_count": null,
      "outputs": []
    },
    {
      "cell_type": "code",
      "source": [
        "plt.figure(figsize=(4,4),dpi=100)\n",
        "sns.barplot(data = gen_data1, x = 'Genre', y = 'Freq', palette='deep')\n",
        "plt.title('Top 5 Popular Genre')\n",
        "plt.show()"
      ],
      "metadata": {
        "colab": {
          "base_uri": "https://localhost:8080/",
          "height": 404
        },
        "id": "doR55fkO4BE7",
        "outputId": "13475afd-dd3e-48f9-9494-5295ed2ab1d3"
      },
      "execution_count": null,
      "outputs": [
        {
          "output_type": "display_data",
          "data": {
            "text/plain": [
              "<Figure size 400x400 with 1 Axes>"
            ],
            "image/png": "[encoded data removed]"
          },
          "metadata": {
            "needs_background": "light"
          }
        }
      ]
    },
    {
      "cell_type": "code",
      "source": [
        "sns.countplot(x=data1[\"rating\"])\n",
        "plt.title(\"rating\")\n",
        "plt.show()"
      ],
      "metadata": {
        "colab": {
          "base_uri": "https://localhost:8080/",
          "height": 295
        },
        "id": "ZDta1pFC75up",
        "outputId": "1ba9eb2e-ba42-4ab4-f736-dff20980c683"
      },
      "execution_count": null,
      "outputs": [
        {
          "output_type": "display_data",
          "data": {
            "text/plain": [
              "<Figure size 432x288 with 1 Axes>"
            ],
            "image/png": "[encoded data removed]"
          },
          "metadata": {
            "needs_background": "light"
          }
        }
      ]
    },
    {
      "cell_type": "code",
      "source": [
        "data1.groupby('certificate').size().sort_values(ascending=False).head(5).plot(kind = 'bar', color = sns.color_palette('hls'))\n",
        "plt.xlabel('Certificate')\n",
        "plt.ylabel('Frequency')\n",
        "plt.title(\"Top 5 Certificates\")\n",
        "plt.figure(figsize=(14,7))\n",
        "plt.show()"
      ],
      "metadata": {
        "colab": {
          "base_uri": "https://localhost:8080/",
          "height": 353
        },
        "id": "yRR6XtPh4UGj",
        "outputId": "7176f9c6-c1be-4471-87f2-955411be2c5f"
      },
      "execution_count": null,
      "outputs": [
        {
          "output_type": "display_data",
          "data": {
            "text/plain": [
              "<Figure size 432x288 with 1 Axes>"
            ],
            "image/png": "[encoded data removed]"
          },
          "metadata": {
            "needs_background": "light"
          }
        },
        {
          "output_type": "display_data",
          "data": {
            "text/plain": [
              "<Figure size 1008x504 with 0 Axes>"
            ]
          },
          "metadata": {}
        }
      ]
    },
    {
      "cell_type": "code",
      "source": [
        "ax = data1.plot.scatter(x='rank', y='rating', color='blue')\n",
        "ax.figure.set_size_inches(8,6)\n",
        "ax.set_title(\"Rating Vs Rank\", weight='bold')\n",
        "ax.yaxis.grid()\n",
        "ax.xaxis.grid()\n",
        "plt.ylabel('Rating', weight='bold')\n",
        "plt.xlabel('Rank', weight='bold')\n",
        "plt.show()"
      ],
      "metadata": {
        "colab": {
          "base_uri": "https://localhost:8080/",
          "height": 404
        },
        "id": "30D5RV7v-T5y",
        "outputId": "6198c6eb-ac28-4dc8-c860-7109554a38fe"
      },
      "execution_count": null,
      "outputs": [
        {
          "output_type": "display_data",
          "data": {
            "text/plain": [
              "<Figure size 576x432 with 1 Axes>"
            ],
            "image/png": "[encoded data removed]"
          },
          "metadata": {
            "needs_background": "light"
          }
        }
      ]
    },
    {
      "cell_type": "code",
      "source": [
        "plt.figure(figsize=(10,6),dpi=50)\n",
        "data1.groupby('directors').size().sort_values(ascending=False).head(10).plot(kind = 'bar', color = sns.color_palette('Set2'))\n",
        "plt.xlabel(\"Directors Name\")\n",
        "plt.ylabel(\"Number of Movies\")\n",
        "plt.title(\"Top 10 directors\")\n",
        "plt.show()"
      ],
      "metadata": {
        "colab": {
          "base_uri": "https://localhost:8080/",
          "height": 341
        },
        "id": "WdC4zBeO5gFN",
        "outputId": "b3785999-5893-42c1-a4e1-88fc3c5442a9"
      },
      "execution_count": null,
      "outputs": [
        {
          "output_type": "display_data",
          "data": {
            "text/plain": [
              "<Figure size 500x300 with 1 Axes>"
            ],
            "image/png": "[encoded data removed]"
          },
          "metadata": {
            "needs_background": "light"
          }
        }
      ]
    },
    {
      "cell_type": "markdown",
      "source": [
        "\n",
        "## **Summary of findings :**\n",
        "\n",
        "---\n",
        "\n",
        "\n",
        "\n",
        "*  **Christopher Nolan** is in Top 1 position out of 160 directors\n",
        "who directed the highest number of films recorded in IMDb top 250 Movies.\n",
        "\n",
        "\n",
        "* Each movie has its own unique **name**, **rank** and **tagline**.\n",
        "\n",
        "* Rank and ratings are **negatively correlated**.\n",
        "\n",
        "* Certain **directors** and **writers** have been involved in multiple films.\n",
        "\n",
        "* **R and G** are the highest and least frequently provided certificates respectively to the top 250 IMDb films.\n",
        "\n",
        "* Approaximately 68% of the films are given a rating of **8.1**.\n",
        "\n",
        "* The top 5 popular **genres** of the films are as follows :\n",
        "\n",
        "    1. Drama\n",
        "\n",
        "    2.Adventure\n",
        "\n",
        "    3.Crime\n",
        "\n",
        "    4.Action\n",
        "\n",
        "    5.Comedy\n",
        "\n",
        "* Movie Duration of the films has been **increasing** over the period of time since 1920 to 2020.\n",
        "* 1990 to 2010 were a couple of decades for top movie production and huge budget spending."
      ],
      "metadata": {
        "id": "kHBf3PNt-B8D"
      }
    }
  ]
}